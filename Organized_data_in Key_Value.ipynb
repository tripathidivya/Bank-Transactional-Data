{
 "cells": [
  {
   "cell_type": "code",
   "execution_count": 2,
   "id": "0328abb6",
   "metadata": {},
   "outputs": [],
   "source": [
    "import openpyxl\n",
    "import re"
   ]
  },
  {
   "cell_type": "code",
   "execution_count": 3,
   "id": "5a6c4bbf",
   "metadata": {},
   "outputs": [],
   "source": [
    "# # Function to extract key/value pairs from an Excel file\n",
    "# def extract_key_value_pairs_from_excel(file_path):\n",
    "#     # Load the Excel workbook\n",
    "#     wb = openpyxl.load_workbook(file_path)\n",
    "    \n",
    "#     # Get the active sheet\n",
    "#     sheet = wb.active\n",
    "    \n",
    "#     # Define patterns to extract relevant information\n",
    "#     patterns = {\n",
    "#         \"Acknowledgement Number\": r\"Acknowledgement Number:(\\d+)\",\n",
    "#         \"Date\": r\"\\d{1,2}-\\w{3}-\\d{4}\",\n",
    "#         \"Name\": r\"Pee, \\d+A No, (.+),\",\n",
    "#         \"Address\": r\"RESIEENCY (.+)\",\n",
    "#     }\n",
    "    \n",
    "#     # Initialize dictionary to store key/value pairs\n",
    "#     key_value_pairs = {}\n",
    "    \n",
    "#     # Iterate over patterns and extract information\n",
    "#     for key, pattern in patterns.items():\n",
    "#         found = False\n",
    "#         for row in sheet.iter_rows(values_only=True):\n",
    "#             for cell_value in row:\n",
    "#                 match = re.search(pattern, str(cell_value))\n",
    "#                 if match and match.group(1):\n",
    "#                     key_value_pairs[key] = match.group(1).strip()\n",
    "#                     found = True\n",
    "#                     break\n",
    "#             if found:\n",
    "#                 break\n",
    "    \n",
    "#     return key_value_pairs\n",
    "\n",
    "# # Path to the Excel file\n",
    "# excel_file_path = \"C:/Users/DIVYA/Practice_for_JOB/Excel File/page_3.xlsx\"\n",
    "\n",
    "# # Extract key/value pairs from the Excel file\n",
    "# data_dict = extract_key_value_pairs_from_excel(excel_file_path)\n",
    "\n",
    "# # Print the extracted key/value pairs\n",
    "# for key, value in data_dict.items():\n",
    "#     print(f\"{key}: {value}\")\n"
   ]
  },
  {
   "cell_type": "code",
   "execution_count": 4,
   "id": "fc76a933",
   "metadata": {},
   "outputs": [
    {
     "name": "stdout",
     "output_type": "stream",
     "text": [
      "Requirement already satisfied: opencv-python in c:\\users\\divya\\anaconda3\\lib\\site-packages (4.5.4.58)\n",
      "Requirement already satisfied: pytesseract in c:\\users\\divya\\anaconda3\\lib\\site-packages (0.3.10)\n",
      "Requirement already satisfied: numpy>=1.17.3 in c:\\users\\divya\\anaconda3\\lib\\site-packages (from opencv-python) (1.20.1)\n",
      "Requirement already satisfied: packaging>=21.3 in c:\\users\\divya\\anaconda3\\lib\\site-packages (from pytesseract) (23.0)\n",
      "Requirement already satisfied: Pillow>=8.0.0 in c:\\users\\divya\\anaconda3\\lib\\site-packages (from pytesseract) (9.4.0)\n",
      "Note: you may need to restart the kernel to use updated packages.\n"
     ]
    }
   ],
   "source": [
    "pip install opencv-python pytesseract"
   ]
  },
  {
   "cell_type": "code",
   "execution_count": 1,
   "id": "eabf55fc",
   "metadata": {},
   "outputs": [
    {
     "name": "stdout",
     "output_type": "stream",
     "text": [
      "Absolute path of the model: D:\\CV_related_data\\Resume\\2023\\Questionaries_Provided_By_Companies\\Novel_pattern_Answers\\frozen_east_text_detection.pb\n",
      "Absolute path of the image: C:\\Users\\DIVYA\\Practice_for_JOB\\Novel pattern Answers\\Balancesheet_images\\Main_used_images\\page_3.png\n",
      "No valid predictions could be made.\n"
     ]
    },
    {
     "ename": "TypeError",
     "evalue": "object of type 'NoneType' has no len()",
     "output_type": "error",
     "traceback": [
      "\u001b[1;31m---------------------------------------------------------------------------\u001b[0m",
      "\u001b[1;31mTypeError\u001b[0m                                 Traceback (most recent call last)",
      "\u001b[1;32m<ipython-input-1-de9281ef1729>\u001b[0m in \u001b[0;36m<module>\u001b[1;34m\u001b[0m\n\u001b[0;32m     55\u001b[0m \u001b[1;33m\u001b[0m\u001b[0m\n\u001b[0;32m     56\u001b[0m \u001b[1;31m# Check if predictions contain rects and confidences\u001b[0m\u001b[1;33m\u001b[0m\u001b[1;33m\u001b[0m\u001b[1;33m\u001b[0m\u001b[0m\n\u001b[1;32m---> 57\u001b[1;33m \u001b[1;32mif\u001b[0m \u001b[0mlen\u001b[0m\u001b[1;33m(\u001b[0m\u001b[0mpredictions\u001b[0m\u001b[1;33m)\u001b[0m \u001b[1;33m!=\u001b[0m \u001b[1;36m2\u001b[0m\u001b[1;33m:\u001b[0m\u001b[1;33m\u001b[0m\u001b[1;33m\u001b[0m\u001b[0m\n\u001b[0m\u001b[0;32m     58\u001b[0m     \u001b[0mprint\u001b[0m\u001b[1;33m(\u001b[0m\u001b[1;34m\"Invalid predictions format.\"\u001b[0m\u001b[1;33m)\u001b[0m\u001b[1;33m\u001b[0m\u001b[1;33m\u001b[0m\u001b[0m\n\u001b[0;32m     59\u001b[0m     \u001b[0mexit\u001b[0m\u001b[1;33m(\u001b[0m\u001b[1;33m)\u001b[0m\u001b[1;33m\u001b[0m\u001b[1;33m\u001b[0m\u001b[0m\n",
      "\u001b[1;31mTypeError\u001b[0m: object of type 'NoneType' has no len()"
     ]
    }
   ],
   "source": [
    "import cv2\n",
    "import numpy as np\n",
    "import pytesseract\n",
    "import re\n",
    "import os\n",
    "\n",
    "def decode_predictions(scores, geometry):\n",
    "    return None  # Placeholder for no predictions\n",
    "\n",
    "def non_max_suppression(boxes, probs=None, overlapThresh=0.3):\n",
    "    pass\n",
    "\n",
    "# File path for the EAST text detector model\n",
    "model_path = \"D:/CV_related_data/Resume/2023/Questionaries_Provided_By_Companies/Novel_pattern_Answers/frozen_east_text_detection.pb\"\n",
    "\n",
    "# Load the EAST text detector model\n",
    "east_net = cv2.dnn.readNet(model_path)\n",
    "print(\"Absolute path of the model:\", os.path.abspath(model_path))\n",
    "\n",
    "# Load the image\n",
    "image_path = \"C:/Users/DIVYA/Practice_for_JOB/Novel pattern Answers/Balancesheet_images/Main_used_images/page_3.png\"\n",
    "img = cv2.imread(image_path)\n",
    "print(\"Absolute path of the image:\", os.path.abspath(image_path))\n",
    "\n",
    "# Get image dimensions\n",
    "(h, w) = img.shape[:2]\n",
    "\n",
    "# Set the new width and height and then determine the ratio in change\n",
    "# for both the width and height\n",
    "(new_w, new_h) = (320, 320)\n",
    "r_w = w / float(new_w)\n",
    "r_h = h / float(new_h)\n",
    "\n",
    "# Resize the image and grab the new image dimensions\n",
    "blob = cv2.dnn.blobFromImage(cv2.resize(img, (new_w, new_h)), 1.0, (new_w, new_h), (123.68, 116.78, 103.94), swapRB=True, crop=False)\n",
    "\n",
    "# Set the input to the text detector\n",
    "east_net.setInput(blob)\n",
    "\n",
    "# Run the forward pass to get output layer scores and geometry\n",
    "(scores, geometry) = east_net.forward(east_net.getUnconnectedOutLayersNames())\n",
    "\n",
    "# Decode predicted bounding boxes\n",
    "predictions = decode_predictions(scores, geometry)\n",
    "\n",
    "if predictions is None:\n",
    "    print(\"No valid predictions could be made.\")\n",
    "    exit()\n",
    "\n",
    "# Check if predictions contain rects and confidences\n",
    "if len(predictions) != 2:\n",
    "    print(\"Invalid predictions format.\")\n",
    "    exit()\n",
    "\n",
    "(rects, confidences) = predictions\n",
    "\n",
    "# Apply non-maxima suppression to suppress weak, overlapping bounding boxes\n",
    "nms_boxes = non_max_suppression(np.array(rects), probs=confidences)\n",
    "\n",
    "# Extract the text ROIs and apply OCR\n",
    "text_regions = []\n",
    "for (startX, startY, endX, endY) in nms_boxes:\n",
    "    # Scale the bounding box coordinates back relative to the original image size\n",
    "    startX = int(startX * r_w)\n",
    "    startY = int(startY * r_h)\n",
    "    endX = int(endX * r_w)\n",
    "    endY = int(endY * r_h)\n",
    "    # Extract the ROI using the original image dimensions\n",
    "    roi = img[startY:endY, startX:endX]\n",
    "    text = pytesseract.image_to_string(roi)\n",
    "    text_regions.append((text, startX, startY, endX, endY))\n",
    "\n",
    "# Extracting key-value pairs using regular expressions\n",
    "key_value_pairs = {}\n",
    "for text, _, _, _, _ in text_regions:\n",
    "    matches = re.findall(r'([A-Za-z0-9\\s]+)\\s*:\\s*([A-Za-z0-9\\s.]+)', text)\n",
    "    for match in matches:\n",
    "        key, value = match\n",
    "        key = key.strip()\n",
    "        value = value.strip()\n",
    "        key_value_pairs[key] = value\n",
    "\n",
    "# Print or utilize the key-value pairs\n",
    "print(\"Extracted Key-Value Pairs:\")\n",
    "for key, value in key_value_pairs.items():\n",
    "    print(f\"{key}: {value}\")\n"
   ]
  },
  {
   "cell_type": "code",
   "execution_count": null,
   "id": "d2545b91",
   "metadata": {},
   "outputs": [],
   "source": []
  }
 ],
 "metadata": {
  "kernelspec": {
   "display_name": "Python 3",
   "language": "python",
   "name": "python3"
  },
  "language_info": {
   "codemirror_mode": {
    "name": "ipython",
    "version": 3
   },
   "file_extension": ".py",
   "mimetype": "text/x-python",
   "name": "python",
   "nbconvert_exporter": "python",
   "pygments_lexer": "ipython3",
   "version": "3.8.8"
  }
 },
 "nbformat": 4,
 "nbformat_minor": 5
}
