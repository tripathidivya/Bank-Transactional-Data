{
 "cells": [
  {
   "cell_type": "code",
   "execution_count": 1,
   "id": "a42fb20b",
   "metadata": {},
   "outputs": [
    {
     "name": "stdout",
     "output_type": "stream",
     "text": [
      "Requirement already satisfied: PyPDF2 in c:\\users\\divya\\anaconda3\\lib\\site-packages (3.0.1)\n",
      "Requirement already satisfied: typing_extensions>=3.10.0.0 in c:\\users\\divya\\anaconda3\\lib\\site-packages (from PyPDF2) (4.9.0)\n",
      "Note: you may need to restart the kernel to use updated packages.\n"
     ]
    }
   ],
   "source": [
    "pip install PyPDF2"
   ]
  },
  {
   "cell_type": "code",
   "execution_count": 2,
   "id": "4b471f52",
   "metadata": {},
   "outputs": [],
   "source": [
    "from PyPDF2 import PdfWriter, PdfReader"
   ]
  },
  {
   "cell_type": "code",
   "execution_count": 9,
   "id": "2b5c3442",
   "metadata": {},
   "outputs": [],
   "source": [
    "# from PyPDF2 import PdfWriter, PdfReader\n",
    "\n",
    "# input_pdf = PdfReader(\"ITR FY 2022-23.pdf\")\n",
    "# output = PdfWriter()\n",
    "# output.add_page(input_pdf.pages[0])  \n",
    "# with open(\"first_page.pdf\", \"wb\") as output_stream:\n",
    "#     output.write(output_stream)"
   ]
  },
  {
   "cell_type": "code",
   "execution_count": 2,
   "id": "db556574",
   "metadata": {},
   "outputs": [],
   "source": [
    "\n",
    "# input_pdf = PdfReader(\"ITR FY 2022-23.pdf\")\n",
    "\n",
    "# for page_num in range(31):\n",
    "#     output = PdfWriter()\n",
    "#     output.add_page(input_pdf.pages[page_num])\n",
    "#     with open(f\"page_{page_num + 1}.pdf\", \"wb\") as output_stream:\n",
    "#         output.write(output_stream)\n"
   ]
  },
  {
   "cell_type": "code",
   "execution_count": 4,
   "id": "63f96dbe",
   "metadata": {},
   "outputs": [
    {
     "name": "stdout",
     "output_type": "stream",
     "text": [
      "Collecting PyMuPDF\n",
      "  Downloading PyMuPDF-1.23.21-cp38-none-win_amd64.whl (3.4 MB)\n",
      "Collecting PyMuPDFb==1.23.9\n",
      "  Downloading PyMuPDFb-1.23.9-py3-none-win_amd64.whl (24.5 MB)\n",
      "Installing collected packages: PyMuPDFb, PyMuPDF\n",
      "Successfully installed PyMuPDF-1.23.21 PyMuPDFb-1.23.9\n",
      "Note: you may need to restart the kernel to use updated packages.\n"
     ]
    }
   ],
   "source": [
    "pip install PyMuPDF"
   ]
  },
  {
   "cell_type": "code",
   "execution_count": 5,
   "id": "61209af2",
   "metadata": {},
   "outputs": [
    {
     "ename": "TypeError",
     "evalue": "'int' object is not callable",
     "output_type": "error",
     "traceback": [
      "\u001b[1;31m---------------------------------------------------------------------------\u001b[0m",
      "\u001b[1;31mTypeError\u001b[0m                                 Traceback (most recent call last)",
      "\u001b[1;32m<ipython-input-5-14e26394b31a>\u001b[0m in \u001b[0;36m<module>\u001b[1;34m\u001b[0m\n\u001b[0;32m     13\u001b[0m \u001b[1;33m\u001b[0m\u001b[0m\n\u001b[0;32m     14\u001b[0m \u001b[1;31m# Iterate through the first 31 pages\u001b[0m\u001b[1;33m\u001b[0m\u001b[1;33m\u001b[0m\u001b[1;33m\u001b[0m\u001b[0m\n\u001b[1;32m---> 15\u001b[1;33m \u001b[1;32mfor\u001b[0m \u001b[0mpage_num\u001b[0m \u001b[1;32min\u001b[0m \u001b[0mrange\u001b[0m\u001b[1;33m(\u001b[0m\u001b[0mmin\u001b[0m\u001b[1;33m(\u001b[0m\u001b[1;36m31\u001b[0m\u001b[1;33m,\u001b[0m \u001b[0mpdf_document\u001b[0m\u001b[1;33m.\u001b[0m\u001b[0mpage_count\u001b[0m\u001b[1;33m(\u001b[0m\u001b[1;33m)\u001b[0m\u001b[1;33m)\u001b[0m\u001b[1;33m)\u001b[0m\u001b[1;33m:\u001b[0m\u001b[1;33m\u001b[0m\u001b[1;33m\u001b[0m\u001b[0m\n\u001b[0m\u001b[0;32m     16\u001b[0m     \u001b[1;31m# Get the page\u001b[0m\u001b[1;33m\u001b[0m\u001b[1;33m\u001b[0m\u001b[1;33m\u001b[0m\u001b[0m\n\u001b[0;32m     17\u001b[0m     \u001b[0mpage\u001b[0m \u001b[1;33m=\u001b[0m \u001b[0mpdf_document\u001b[0m\u001b[1;33m[\u001b[0m\u001b[0mpage_num\u001b[0m\u001b[1;33m]\u001b[0m\u001b[1;33m\u001b[0m\u001b[1;33m\u001b[0m\u001b[0m\n",
      "\u001b[1;31mTypeError\u001b[0m: 'int' object is not callable"
     ]
    }
   ],
   "source": [
    "# import fitz  # PyMuPDF\n",
    "# from PIL import Image\n",
    "\n",
    "# input_pdf = \"ITR FY 2022-23.pdf\"\n",
    "# output_folder = \"output_images/\"\n",
    "\n",
    "# # Create output folder if it doesn't exist\n",
    "# import os\n",
    "# os.makedirs(output_folder, exist_ok=True)\n",
    "\n",
    "# # Open the PDF file\n",
    "# pdf_document = fitz.open(input_pdf)\n",
    "\n",
    "# # Iterate through the first 31 pages\n",
    "# for page_num in range(min(31, pdf_document.page_count())):\n",
    "#     # Get the page\n",
    "#     page = pdf_document[page_num]\n",
    "\n",
    "#     # Convert the page to an image\n",
    "#     pix = page.get_pixmap()\n",
    "#     img = Image.frombytes(\"RGB\", (pix.width, pix.height), pix.samples)\n",
    "\n",
    "#     # Save the image to a file\n",
    "#     img_filename = f\"{output_folder}page_{page_num + 1}.png\"\n",
    "#     img.save(img_filename)\n",
    "\n",
    "# # Close the PDF document\n",
    "# pdf_document.close()\n"
   ]
  },
  {
   "cell_type": "code",
   "execution_count": 6,
   "id": "32259ec0",
   "metadata": {},
   "outputs": [],
   "source": [
    "import fitz  # PyMuPDF\n",
    "\n",
    "# Open the input PDF file\n",
    "input_pdf = fitz.open(\"ITR FY 2022-23.pdf\")\n",
    "\n",
    "for page_num in range(31):\n",
    "    # Get the page\n",
    "    page = input_pdf.load_page(page_num)\n",
    "\n",
    "    # Render the page as an image\n",
    "    pix = page.get_pixmap()\n",
    "\n",
    "    # Save the image as a PNG file\n",
    "    pix.save(f\"page_{page_num + 1}.png\")\n"
   ]
  },
  {
   "cell_type": "code",
   "execution_count": null,
   "id": "a7d98afe",
   "metadata": {},
   "outputs": [],
   "source": []
  }
 ],
 "metadata": {
  "kernelspec": {
   "display_name": "Python 3",
   "language": "python",
   "name": "python3"
  },
  "language_info": {
   "codemirror_mode": {
    "name": "ipython",
    "version": 3
   },
   "file_extension": ".py",
   "mimetype": "text/x-python",
   "name": "python",
   "nbconvert_exporter": "python",
   "pygments_lexer": "ipython3",
   "version": "3.8.8"
  }
 },
 "nbformat": 4,
 "nbformat_minor": 5
}
