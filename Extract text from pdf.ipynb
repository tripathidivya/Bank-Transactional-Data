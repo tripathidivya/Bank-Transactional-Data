{
 "cells": [
  {
   "cell_type": "code",
   "execution_count": 1,
   "id": "790137bd",
   "metadata": {},
   "outputs": [
    {
     "name": "stdout",
     "output_type": "stream",
     "text": [
      "Requirement already satisfied: pytesseract in c:\\users\\divya\\anaconda3\\lib\\site-packages (0.3.10)\n",
      "Requirement already satisfied: pillow in c:\\users\\divya\\anaconda3\\lib\\site-packages (9.4.0)\n",
      "Requirement already satisfied: openpyxl in c:\\users\\divya\\anaconda3\\lib\\site-packages (3.0.7)\n",
      "Requirement already satisfied: et-xmlfile in c:\\users\\divya\\anaconda3\\lib\\site-packages (from openpyxl) (1.0.1)\n",
      "Requirement already satisfied: packaging>=21.3 in c:\\users\\divya\\anaconda3\\lib\\site-packages (from pytesseract) (23.0)\n",
      "Note: you may need to restart the kernel to use updated packages.\n"
     ]
    }
   ],
   "source": [
    "pip install pytesseract pillow openpyxl"
   ]
  },
  {
   "cell_type": "code",
   "execution_count": 3,
   "id": "d8fe6118",
   "metadata": {},
   "outputs": [],
   "source": [
    "# C:\\Users\\DIVYA\\Practice_for_JOB\\Balancesheet_images\\Main_used_images"
   ]
  },
  {
   "cell_type": "code",
   "execution_count": 4,
   "id": "60e6444a",
   "metadata": {},
   "outputs": [],
   "source": [
    "import os\n",
    "import pytesseract\n",
    "from PIL import Image\n",
    "import openpyxl"
   ]
  },
  {
   "cell_type": "code",
   "execution_count": 6,
   "id": "0a925942",
   "metadata": {},
   "outputs": [],
   "source": [
    "\n",
    "\n",
    "# Path to Tesseract executable (change this path according to your installation)\n",
    "pytesseract.pytesseract.tesseract_cmd = r'C:\\Program Files\\Tesseract-OCR\\tesseract.exe'\n",
    "\n",
    "def ocr_to_excel(folder_path):\n",
    "    image_files = [f for f in os.listdir(folder_path) if f.endswith(('.png', '.jpg', '.jpeg'))]\n",
    "\n",
    "    for image_file in image_files[:31]:\n",
    "        image_path = os.path.join(folder_path, image_file)\n",
    "        img = Image.open(image_path)\n",
    "        text = pytesseract.image_to_string(img)\n",
    "        \n",
    "        # Create a new workbook for each image\n",
    "        wb = openpyxl.Workbook()\n",
    "        sheet = wb.active\n",
    "        \n",
    "        # Write the text to the Excel sheet\n",
    "        sheet.cell(row=1, column=1, value=image_path)\n",
    "        sheet.cell(row=1, column=2, value=text)\n",
    "        \n",
    "        # Name the Excel file based on the image file\n",
    "        excel_file = os.path.splitext(image_file)[0] + \".xlsx\"\n",
    "        \n",
    "        # Save the workbook\n",
    "        wb.save(excel_file)\n",
    "\n",
    "# Folder path containing the images\n",
    "folder_path = \"C:/Users/DIVYA/Practice_for_JOB/Balancesheet_images/Main_used_images\"\n",
    "\n",
    "# Perform OCR on images and store the text in Excel\n",
    "ocr_to_excel(folder_path)\n"
   ]
  },
  {
   "cell_type": "code",
   "execution_count": null,
   "id": "06515383",
   "metadata": {},
   "outputs": [],
   "source": []
  }
 ],
 "metadata": {
  "kernelspec": {
   "display_name": "Python 3",
   "language": "python",
   "name": "python3"
  },
  "language_info": {
   "codemirror_mode": {
    "name": "ipython",
    "version": 3
   },
   "file_extension": ".py",
   "mimetype": "text/x-python",
   "name": "python",
   "nbconvert_exporter": "python",
   "pygments_lexer": "ipython3",
   "version": "3.8.8"
  }
 },
 "nbformat": 4,
 "nbformat_minor": 5
}
